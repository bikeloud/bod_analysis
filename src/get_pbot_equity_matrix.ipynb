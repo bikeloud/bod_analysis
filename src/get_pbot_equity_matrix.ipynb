{
 "cells": [
  {
   "cell_type": "code",
   "execution_count": 56,
   "metadata": {},
   "outputs": [],
   "source": [
    "import requests\n",
    "import pandas as pd"
   ]
  },
  {
   "cell_type": "code",
   "execution_count": 2,
   "metadata": {},
   "outputs": [],
   "source": [
    "#https://www.arcgis.com/home/item.html?id=2e2252af23ed4be3a666f780cbaddfc5\n",
    "# http://pdx.maps.arcgis.com/apps/MapSeries/index.html?appid=2e2252af23ed4be3a666f780cbaddfc5"
   ]
  },
  {
   "cell_type": "code",
   "execution_count": 30,
   "metadata": {},
   "outputs": [],
   "source": [
    "my_orig_request=\"\"\"\n",
    "https://services.arcgis.com/quVN97tn06YNGj9s/ArcGIS/rest/services/Equity_Matrix_2016/FeatureServer/0/query?\n",
    "where=&objectIds=1%2C2%2C3&time=&geometry=&geometryType=esriGeometryEnvelope&inSR=&spatialRel=esriSpatialRelIntersects&resultType=none&distance=0.0&units=esriSRUnit_Meter&returnGeodetic=false&outFields=Tract%2C+FIPS%2C+Race_Ran_1%2C+Income_R_1%2C+Combined&returnGeometry=true&returnCentroid=false&featureEncoding=esriDefault&multipatchOption=xyFootprint&maxAllowableOffset=&geometryPrecision=&outSR=&datumTransformation=&applyVCSProjection=false&returnIdsOnly=false&returnUniqueIdsOnly=false&returnCountOnly=false&returnExtentOnly=false&returnQueryGeometry=false&returnDistinctValues=false&cacheHint=false&orderByFields=&groupByFieldsForStatistics=&outStatistics=&having=&resultOffset=&resultRecordCount=&returnZ=false&returnM=false&returnExceededLimitFeatures=true&quantizationParameters=&sqlFormat=none&f=pjson&token=\n",
    "\"\"\""
   ]
  },
  {
   "cell_type": "code",
   "execution_count": 14,
   "metadata": {},
   "outputs": [],
   "source": [
    "# There are 145 census tracts that PBOT has data for, construct the request for them\n",
    "all_object_ids = ''\n",
    "for i in range(145):\n",
    "    all_object_ids += f'{i}%2C'\n",
    "all_object_ids = all_object_ids[:-3]"
   ]
  },
  {
   "cell_type": "code",
   "execution_count": 59,
   "metadata": {},
   "outputs": [],
   "source": [
    "# These are the output fields we care about\n",
    "my_output_fields = \"Tract%2C+FIPS%2C+Race_Ran_1%2C+Income_R_1%2C+Combined\""
   ]
  },
  {
   "cell_type": "code",
   "execution_count": 40,
   "metadata": {},
   "outputs": [],
   "source": [
    "base_url = \"https://services.arcgis.com/quVN97tn06YNGj9s/ArcGIS/rest/services/Equity_Matrix_2016/FeatureServer/0/query?\"\n",
    "my_request = f\"\"\"{base_url}\n",
    "where=\n",
    "&objectIds={all_object_ids}\n",
    "&time=\n",
    "&geometry=\n",
    "&geometryType=esriGeometryEnvelope\n",
    "&inSR=\n",
    "&spatialRel=esriSpatialRelIntersects\n",
    "&resultType=none\n",
    "&distance=0.0\n",
    "&units=esriSRUnit_Meter\n",
    "&returnGeodetic=false\n",
    "&outFields={my_output_fields}\n",
    "&returnGeometry=true\n",
    "&returnCentroid=false\n",
    "&featureEncoding=esriDefault\n",
    "&multipatchOption=xyFootprint\n",
    "&maxAllowableOffset=\n",
    "&geometryPrecision=\n",
    "&outSR=\n",
    "&datumTransformation=\n",
    "&applyVCSProjection=false\n",
    "&returnIdsOnly=false\n",
    "&returnUniqueIdsOnly=false\n",
    "&returnCountOnly=false\n",
    "&returnExtentOnly=false\n",
    "&returnQueryGeometry=false\n",
    "&returnDistinctValues=false\n",
    "&cacheHint=false\n",
    "&orderByFields=\n",
    "&groupByFieldsForStatistics=\n",
    "&outStatistics=\n",
    "&having=\n",
    "&resultOffset=\n",
    "&resultRecordCount=\n",
    "&returnZ=false\n",
    "&returnM=false\n",
    "&returnExceededLimitFeatures=true\n",
    "&quantizationParameters=\n",
    "&sqlFormat=none\n",
    "&f=pjson\n",
    "&token=\n",
    "\"\"\"\n",
    "my_request=my_request.replace('\\n', '')  # Remove carriage returns (they were just for readability)"
   ]
  },
  {
   "cell_type": "code",
   "execution_count": 41,
   "metadata": {},
   "outputs": [],
   "source": [
    "response = requests.get(my_request)"
   ]
  },
  {
   "cell_type": "code",
   "execution_count": 47,
   "metadata": {},
   "outputs": [],
   "source": [
    "json_response = response.json()"
   ]
  },
  {
   "cell_type": "code",
   "execution_count": 63,
   "metadata": {},
   "outputs": [
    {
     "data": {
      "text/plain": [
       "{'TRACT': '001202',\n",
       " 'FIPS': '41051001202',\n",
       " 'Race_Ran_1': 1,\n",
       " 'Income_R_1': 2,\n",
       " 'Combined': 3}"
      ]
     },
     "execution_count": 63,
     "metadata": {},
     "output_type": "execute_result"
    }
   ],
   "source": [
    "json_response['features'][0]['attributes']  # an example"
   ]
  },
  {
   "cell_type": "code",
   "execution_count": 54,
   "metadata": {},
   "outputs": [],
   "source": [
    "relevant_json = [item['attributes'] for item in json_response['features']]"
   ]
  },
  {
   "cell_type": "code",
   "execution_count": 60,
   "metadata": {},
   "outputs": [],
   "source": [
    "pd.DataFrame(relevant_json).to_csv('./pbot_equity_matrix.csv', index=False)"
   ]
  }
 ],
 "metadata": {
  "kernelspec": {
   "display_name": "bikeplan2030",
   "language": "python",
   "name": "bikeplan2030"
  },
  "language_info": {
   "codemirror_mode": {
    "name": "ipython",
    "version": 3
   },
   "file_extension": ".py",
   "mimetype": "text/x-python",
   "name": "python",
   "nbconvert_exporter": "python",
   "pygments_lexer": "ipython3",
   "version": "3.6.5"
  }
 },
 "nbformat": 4,
 "nbformat_minor": 4
}
