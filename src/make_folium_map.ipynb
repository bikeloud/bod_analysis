{
 "cells": [
  {
   "cell_type": "markdown",
   "metadata": {},
   "source": [
    "Creates folium interactive maps of PBOT equity data and census population density"
   ]
  },
  {
   "cell_type": "code",
   "execution_count": 1,
   "metadata": {},
   "outputs": [],
   "source": [
    "import folium\n",
    "import pandas as pd\n",
    "import geopandas as gpd\n",
    "%matplotlib inline"
   ]
  },
  {
   "cell_type": "code",
   "execution_count": 3,
   "metadata": {},
   "outputs": [],
   "source": [
    "tracts = gpd.read_file('../data/census_shapefiles/tl_2017_41_tract')\n",
    "# Only plot Multnomah County\n",
    "tracts = tracts[tracts['GEOID'].str.startswith('41051')]\n",
    "gdf_wgs84 = tracts.to_crs({'init': 'epsg:4326'})"
   ]
  },
  {
   "cell_type": "code",
   "execution_count": 4,
   "metadata": {},
   "outputs": [],
   "source": [
    "# Load PBOT equity matrix data\n",
    "equity = pd.read_csv('../data/pbot_equity_matrix/pbot_equity_matrix.csv')\n",
    "equity=equity[['FIPS', 'Combined']].rename(columns={'FIPS':'GEOID', 'Combined': 'Equity Score'})\n",
    "equity['GEOID']=equity['GEOID'].astype(str)\n",
    "\n",
    "# Load tract level population data\n",
    "pop = pd.read_csv('../data/acs2017_pop_density/tract_population.csv')\n",
    "pop['GEOID']=pop['state'].astype(str)+'0'+pop['county'].astype(str)+pop['tract'].astype(str).apply('{:0>6}'.format)\n",
    "\n",
    "# Join data together on GEOIDs\n",
    "merged = pd.merge(gdf_wgs84, equity, on='GEOID')\n",
    "merged=pd.merge(merged, pop, on='GEOID')"
   ]
  },
  {
   "cell_type": "code",
   "execution_count": 8,
   "metadata": {},
   "outputs": [],
   "source": [
    "# Calculate population density\n",
    "merged['population_density'] = merged['population_estimate'] / merged['ALAND']\n",
    "# Convert from people / meter^2 to people / mile^2\n",
    "merged['population_density'] = merged['population_density'] * 2589988"
   ]
  },
  {
   "cell_type": "code",
   "execution_count": 13,
   "metadata": {},
   "outputs": [],
   "source": [
    "m = folium.Map(location=[45.5236, -122.6750])\n",
    "id_field='GEOID'\n",
    "folium.Choropleth(geo_data = merged.to_json(), data = merged,\n",
    "                columns = [id_field, 'Equity Score'], key_on = 'feature.properties.{}'.format(id_field),\n",
    "                  fill_color = 'YlOrRd', legend_name='Equity Score', name='Equity Score'\n",
    "                 ).add_to(m)\n",
    "\n",
    "folium.Choropleth(geo_data = merged.to_json(), data = merged,\n",
    "                columns = [id_field, 'population_density'], key_on = 'feature.properties.{}'.format(id_field),\n",
    "                  fill_color = 'BuGn', legend_name='Population Density [people/square mile]', name='Population Density'\n",
    "                 ).add_to(m)\n",
    "\n",
    "folium.LayerControl().add_to(m)\n",
    "\n",
    "m.save('../maps/population_density_and_equity_map.html')"
   ]
  }
 ],
 "metadata": {
  "kernelspec": {
   "display_name": "bikeplan2030",
   "language": "python",
   "name": "bikeplan2030"
  },
  "language_info": {
   "codemirror_mode": {
    "name": "ipython",
    "version": 3
   },
   "file_extension": ".py",
   "mimetype": "text/x-python",
   "name": "python",
   "nbconvert_exporter": "python",
   "pygments_lexer": "ipython3",
   "version": "3.6.5"
  }
 },
 "nbformat": 4,
 "nbformat_minor": 4
}
